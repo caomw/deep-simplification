{
 "cells": [
  {
   "cell_type": "code",
   "execution_count": 46,
   "metadata": {
    "collapsed": true
   },
   "outputs": [],
   "source": [
    "import sys\n",
    "import os"
   ]
  },
  {
   "cell_type": "code",
   "execution_count": 100,
   "metadata": {
    "collapsed": false
   },
   "outputs": [
    {
     "name": "stdout",
     "output_type": "stream",
     "text": [
      "BLEU: 59.58\n",
      "iter: 83\n",
      "redacted: 3324\n",
      "modelIteration: 200000\n",
      "\n",
      "BLEU: 59.58\n",
      "iter: 83\n",
      "redacted: 3324\n",
      "modelIteration: 300000\n",
      "\n"
     ]
    }
   ],
   "source": [
    "model_iterations = ['200000', '300000']\n",
    "for iteration in model_iterations:\n",
    "    infile = 'testing.simple.aligned.out-'+iteration+'.tok'\n",
    "    outfile = 'testing.simple.aligned.out-'+iteration+'-fixed.tok'\n",
    "    source = open('testing.normal.aligned.tok','r').readlines()\n",
    "    sample_in = open(infile,'r').readlines()\n",
    "    bestX = 0\n",
    "    bestIter = 0\n",
    "    bestBleu = 0\n",
    "    for x in range(30,130):\n",
    "        countX = 0\n",
    "        sample_out = open(outfile,'w')\n",
    "        for source_line, sample_in_line in zip(source, sample_in):\n",
    "            #countX, countY = 0, 0\n",
    "            if len(sample_in_line) > x:#len(source_line) < len(sample_in_line):\n",
    "                sample_out.write(source_line)\n",
    "                countX += 1\n",
    "            else:\n",
    "                sample_out.write(sample_in_line)\n",
    "        command = \"perl /media/m/DT-HDD-3/git/deep-simplification/simplify/multi-bleu.perl /media/m/DT-HDD-3/git/deep-simplification/data/testing/testing.simple.aligned.tok < /media/m/DT-HDD-3/git/deep-simplification/data/testing/\"+outfile\n",
    "        #print \"iter \"+str(x)\n",
    "        #print countX\n",
    "        output = os.popen(command).read()\n",
    "        bleu = output[7:12]\n",
    "        #print bleu\n",
    "        sample_out.close()\n",
    "        if float(bleu) > float(bestBleu):\n",
    "            bestBleu = bleu\n",
    "            bestIter = x\n",
    "            bestX = countX\n",
    "    print \"BLEU: \"+str(bestBleu)\n",
    "    print \"iter: \"+str(bestIter)\n",
    "    print \"redacted: \"+str(bestX)\n",
    "    print \"modelIteration: \"+str(iteration)+\"\\n\"\n"
   ]
  },
  {
   "cell_type": "code",
   "execution_count": 20,
   "metadata": {
    "collapsed": false
   },
   "outputs": [
    {
     "ename": "IOError",
     "evalue": "[Errno 2] No such file or directory: 'sys.argv[1]'",
     "output_type": "error",
     "traceback": [
      "\u001b[1;31m---------------------------------------------------------------------------\u001b[0m",
      "\u001b[1;31mIOError\u001b[0m                                   Traceback (most recent call last)",
      "\u001b[1;32m<ipython-input-20-bb934559291e>\u001b[0m in \u001b[0;36m<module>\u001b[1;34m()\u001b[0m\n\u001b[0;32m      1\u001b[0m \u001b[0msource\u001b[0m \u001b[1;33m=\u001b[0m \u001b[0mopen\u001b[0m\u001b[1;33m(\u001b[0m\u001b[1;34m'testing.simple.aligned.tok'\u001b[0m\u001b[1;33m,\u001b[0m\u001b[1;34m'r'\u001b[0m\u001b[1;33m)\u001b[0m\u001b[1;33m.\u001b[0m\u001b[0mreadlines\u001b[0m\u001b[1;33m(\u001b[0m\u001b[1;33m)\u001b[0m\u001b[1;33m\u001b[0m\u001b[0m\n\u001b[1;32m----> 2\u001b[1;33m \u001b[0msample_in\u001b[0m \u001b[1;33m=\u001b[0m \u001b[0mopen\u001b[0m\u001b[1;33m(\u001b[0m\u001b[1;34m'sys.argv[1]'\u001b[0m\u001b[1;33m,\u001b[0m\u001b[1;34m'r'\u001b[0m\u001b[1;33m)\u001b[0m\u001b[1;33m.\u001b[0m\u001b[0mreadlines\u001b[0m\u001b[1;33m(\u001b[0m\u001b[1;33m)\u001b[0m\u001b[1;33m\u001b[0m\u001b[0m\n\u001b[0m\u001b[0;32m      3\u001b[0m \u001b[0msample_out\u001b[0m \u001b[1;33m=\u001b[0m \u001b[0mopen\u001b[0m\u001b[1;33m(\u001b[0m\u001b[1;34m'sys.argv[2]'\u001b[0m\u001b[1;33m,\u001b[0m\u001b[1;34m'w'\u001b[0m\u001b[1;33m)\u001b[0m\u001b[1;33m\u001b[0m\u001b[0m\n\u001b[0;32m      4\u001b[0m \u001b[0mcount\u001b[0m \u001b[1;33m=\u001b[0m \u001b[1;36m0\u001b[0m\u001b[1;33m\u001b[0m\u001b[0m\n\u001b[0;32m      5\u001b[0m \u001b[1;32mfor\u001b[0m \u001b[0msource_line\u001b[0m\u001b[1;33m,\u001b[0m \u001b[0msample_in_line\u001b[0m \u001b[1;32min\u001b[0m \u001b[0mzip\u001b[0m\u001b[1;33m(\u001b[0m\u001b[0msource\u001b[0m\u001b[1;33m,\u001b[0m \u001b[0msample_in\u001b[0m\u001b[1;33m)\u001b[0m\u001b[1;33m:\u001b[0m\u001b[1;33m\u001b[0m\u001b[0m\n",
      "\u001b[1;31mIOError\u001b[0m: [Errno 2] No such file or directory: 'sys.argv[1]'"
     ]
    }
   ],
   "source": [
    "source = open('testing.simple.aligned.tok','r').readlines()\n",
    "sample_in = open('sys.argv[1]','r').readlines()\n",
    "sample_out = open('sys.argv[2]','w')\n",
    "count = 0\n",
    "for source_line, sample_in_line in zip(source, sample_in):\n",
    "        if len(source_line) < len(sample_in_line):\n",
    "            count += 1\n",
    "print count"
   ]
  },
  {
   "cell_type": "code",
   "execution_count": null,
   "metadata": {
    "collapsed": true
   },
   "outputs": [],
   "source": []
  }
 ],
 "metadata": {
  "kernelspec": {
   "display_name": "Python 2",
   "language": "python",
   "name": "python2"
  },
  "language_info": {
   "codemirror_mode": {
    "name": "ipython",
    "version": 2
   },
   "file_extension": ".py",
   "mimetype": "text/x-python",
   "name": "python",
   "nbconvert_exporter": "python",
   "pygments_lexer": "ipython2",
   "version": "2.7.6"
  }
 },
 "nbformat": 4,
 "nbformat_minor": 0
}
